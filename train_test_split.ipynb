{
 "cells": [
  {
   "cell_type": "code",
   "execution_count": 56,
   "metadata": {},
   "outputs": [],
   "source": [
    "import os\n",
    "import glob\n",
    "import shutil\n",
    "import numpy as np\n",
    "import math"
   ]
  },
  {
   "cell_type": "code",
   "execution_count": 40,
   "metadata": {},
   "outputs": [],
   "source": [
    "dataset_init_path=os.path.join(os.getcwd(),\"Knee X-ray Images\")\n",
    "dataset_fin_path=os.path.join(os.getcwd(),\"Dataset\")"
   ]
  },
  {
   "cell_type": "code",
   "execution_count": 50,
   "metadata": {},
   "outputs": [],
   "source": [
    "_,fold,__=next(os.walk(\"Knee X-ray Images\\MedicalExpert-I\"))\n",
    "for i in fold:   \n",
    "    os.mkdir(os.path.join(dataset_fin_path,\"test\",i))"
   ]
  },
  {
   "cell_type": "code",
   "execution_count": 48,
   "metadata": {},
   "outputs": [],
   "source": [
    "_,dirs,__=next(os.walk(dataset_init_path))\n",
    "count=1\n",
    "for i in dirs:\n",
    "    _,fold,__=next(os.walk(os.path.join(dataset_init_path,i)))\n",
    "    for j in fold:\n",
    "        for k in glob.iglob(os.path.join(dataset_init_path,i,j,\"*.png\")):\n",
    "            shutil.copyfile(k,os.path.join(dataset_fin_path,j,str(count)+os.path.basename(k)))\n",
    "    count=count+1\n",
    "        "
   ]
  },
  {
   "cell_type": "code",
   "execution_count": 74,
   "metadata": {},
   "outputs": [
    {
     "name": "stdout",
     "output_type": "stream",
     "text": [
      "1017 203\n",
      "976 195\n",
      "464 93\n",
      "442 88\n",
      "412 82\n"
     ]
    }
   ],
   "source": [
    "train_test_ratio=80\n",
    "_,dirs,__=next(os.walk(dataset_fin_path))\n",
    "dirs.remove(\"train\")\n",
    "dirs.remove(\"test\")\n",
    "for i in dirs:\n",
    "    counter=0\n",
    "    total=len(glob.glob(os.path.join(dataset_fin_path,i,\"*.png\")))\n",
    "    percent=round(total*train_test_ratio/100)\n",
    "    print(total,percent)\n",
    "    for j in glob.iglob(os.path.join(dataset_fin_path,i,\"*.png\")):\n",
    "        counter=counter+1\n",
    "        cut=round(total/percent)\n",
    "        if(counter%cut):\n",
    "            filename=os.path.basename(j)\n",
    "            shutil.copyfile(j,os.path.join(dataset_fin_path,\"test\",i,filename))\n",
    "        else:\n",
    "            filename=os.path.basename(j)\n",
    "            shutil.copyfile(j,os.path.join(dataset_fin_path,\"train\",i,filename))        "
   ]
  }
 ],
 "metadata": {
  "interpreter": {
   "hash": "2e207aba180bf70be9b2c47dc6c3d5fc078dbf519646ff04b8d5f0c1d9c06c0a"
  },
  "kernelspec": {
   "display_name": "Python 3.6.10 ('DroneSurveillance')",
   "language": "python",
   "name": "python3"
  },
  "language_info": {
   "codemirror_mode": {
    "name": "ipython",
    "version": 3
   },
   "file_extension": ".py",
   "mimetype": "text/x-python",
   "name": "python",
   "nbconvert_exporter": "python",
   "pygments_lexer": "ipython3",
   "version": "3.6.10"
  },
  "orig_nbformat": 4
 },
 "nbformat": 4,
 "nbformat_minor": 2
}
